{
  "nbformat": 4,
  "nbformat_minor": 0,
  "metadata": {
    "colab": {
      "provenance": []
    },
    "kernelspec": {
      "name": "python3",
      "display_name": "Python 3"
    },
    "language_info": {
      "name": "python"
    }
  },
  "cells": [
    {
      "cell_type": "code",
      "execution_count": null,
      "metadata": {
        "colab": {
          "base_uri": "https://localhost:8080/"
        },
        "id": "JXKpTjVf7INy",
        "outputId": "0e2968f9-43e4-4e3f-8411-737041f00be1"
      },
      "outputs": [
        {
          "output_type": "stream",
          "name": "stdout",
          "text": [
            "Confusion Matrix:\n",
            " [[965   0]\n",
            " [ 37 113]]\n",
            "\n",
            "Classification Report:\n",
            "               precision    recall  f1-score   support\n",
            "\n",
            "           0       0.96      1.00      0.98       965\n",
            "           1       1.00      0.75      0.86       150\n",
            "\n",
            "    accuracy                           0.97      1115\n",
            "   macro avg       0.98      0.88      0.92      1115\n",
            "weighted avg       0.97      0.97      0.96      1115\n",
            "\n",
            "Accuracy Score: 0.9668161434977578\n"
          ]
        }
      ],
      "source": [
        "# Step 1: Import libraries\n",
        "import pandas as pd\n",
        "from sklearn.model_selection import train_test_split\n",
        "from sklearn.feature_extraction.text import TfidfVectorizer\n",
        "from sklearn.naive_bayes import MultinomialNB\n",
        "from sklearn.metrics import classification_report, confusion_matrix, accuracy_score\n",
        "\n",
        "# Step 2: Load data\n",
        "df = pd.read_csv('/content/spam.csv', encoding='ISO-8859-1')  # Update path if needed\n",
        "df = df[['v1', 'v2']]\n",
        "df.columns = ['label', 'message']\n",
        "\n",
        "# Step 3: Encode labels\n",
        "df['label'] = df['label'].map({'ham': 0, 'spam': 1})\n",
        "\n",
        "# Step 4: Split data\n",
        "X_train, X_test, y_train, y_test = train_test_split(df['message'], df['label'], test_size=0.2, random_state=42)\n",
        "\n",
        "# Step 5: Text vectorization using TF-IDF\n",
        "tfidf = TfidfVectorizer(stop_words='english', lowercase=True)\n",
        "X_train_tfidf = tfidf.fit_transform(X_train)\n",
        "X_test_tfidf = tfidf.transform(X_test)\n",
        "\n",
        "# Step 6: Train Naive Bayes model\n",
        "model = MultinomialNB()\n",
        "model.fit(X_train_tfidf, y_train)\n",
        "\n",
        "# Step 7: Evaluate model\n",
        "y_pred = model.predict(X_test_tfidf)\n",
        "\n",
        "print(\"Confusion Matrix:\\n\", confusion_matrix(y_test, y_pred))\n",
        "print(\"\\nClassification Report:\\n\", classification_report(y_test, y_pred))\n",
        "print(\"Accuracy Score:\", accuracy_score(y_test, y_pred))\n"
      ]
    },
    {
      "cell_type": "code",
      "source": [
        "# Step 9: Predict on custom input\n",
        "while True:\n",
        "    custom_text = input(\"\\nEnter an SMS message (or type 'exit' to stop): \")\n",
        "    if custom_text.lower() == 'exit':\n",
        "        break\n",
        "\n",
        "    # Preprocess and predict\n",
        "    custom_tfidf = tfidf.transform([custom_text])\n",
        "    prediction = model.predict(custom_tfidf)[0]\n",
        "\n",
        "    label = \"SPAM 🚫\" if prediction == 1 else \"HAM ✅\"\n",
        "    print(f\"Prediction: {label}\")\n"
      ],
      "metadata": {
        "colab": {
          "base_uri": "https://localhost:8080/"
        },
        "id": "DYZDmA1h-6h7",
        "outputId": "08873886-edb3-4f91-9dbc-8d668f0e64b9"
      },
      "execution_count": null,
      "outputs": [
        {
          "name": "stdout",
          "output_type": "stream",
          "text": [
            "\n",
            "Enter an SMS message (or type 'exit' to stop): you won a car\n",
            "Prediction: HAM ✅\n",
            "\n",
            "Enter an SMS message (or type 'exit' to stop): you have a job\n",
            "Prediction: HAM ✅\n",
            "\n",
            "Enter an SMS message (or type 'exit' to stop): 100\n",
            "Prediction: SPAM 🚫\n",
            "\n",
            "Enter an SMS message (or type 'exit' to stop): exit\n"
          ]
        }
      ]
    }
  ]
}