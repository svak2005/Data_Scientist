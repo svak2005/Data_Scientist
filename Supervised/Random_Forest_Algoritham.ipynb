{
  "nbformat": 4,
  "nbformat_minor": 0,
  "metadata": {
    "colab": {
      "provenance": [],
      "authorship_tag": "ABX9TyOrlGuuG9KZoQt8mvrB4Zna",
      "include_colab_link": true
    },
    "kernelspec": {
      "name": "python3",
      "display_name": "Python 3"
    },
    "language_info": {
      "name": "python"
    }
  },
  "cells": [
    {
      "cell_type": "markdown",
      "metadata": {
        "id": "view-in-github",
        "colab_type": "text"
      },
      "source": [
        "<a href=\"https://colab.research.google.com/github/SURESH6161/Data-Science/blob/main/Random_Forest_Algoritham.ipynb\" target=\"_parent\"><img src=\"https://colab.research.google.com/assets/colab-badge.svg\" alt=\"Open In Colab\"/></a>"
      ]
    },
    {
      "cell_type": "code",
      "execution_count": 56,
      "metadata": {
        "id": "XsEp7MGz9M8n"
      },
      "outputs": [],
      "source": [
        "import pandas as pd ,numpy as np\n",
        "import matplotlib.pyplot as plt ,seaborn as sns\n",
        "%matplotlib inline"
      ]
    },
    {
      "cell_type": "markdown",
      "source": [],
      "metadata": {
        "id": "SBbU_ckOCvY3"
      }
    },
    {
      "cell_type": "code",
      "source": [
        "import pandas as pd\n",
        "import matplotlib.pyplot as plt\n",
        "import seaborn as sns\n",
        "df= pd.read_csv('/content/heart_v2.csv')\n",
        "print(df.head())\n",
        "sns.countplot(df['heart disease'])\n",
        "plt.title('Value counts of heart disease patients')\n",
        "plt.show()"
      ],
      "metadata": {
        "colab": {
          "base_uri": "https://localhost:8080/",
          "height": 556
        },
        "id": "LCjW46U1-V4T",
        "outputId": "c9aebfc7-6cf4-4587-b8e3-6839af02e2fb"
      },
      "execution_count": 57,
      "outputs": [
        {
          "output_type": "stream",
          "name": "stdout",
          "text": [
            "   age  sex   BP  cholestrol  heart disease\n",
            "0   70    1  130         322              1\n",
            "1   67    0  115         564              0\n",
            "2   57    1  124         261              1\n",
            "3   64    1  128         263              0\n",
            "4   74    0  120         269              0\n"
          ]
        },
        {
          "output_type": "display_data",
          "data": {
            "text/plain": [
              "<Figure size 640x480 with 1 Axes>"
            ],
            "image/png": "[encoded data removed]"
          },
          "metadata": {}
        }
      ]
    },
    {
      "cell_type": "code",
      "source": [
        "x=df.drop('heart disease',axis=1)\n",
        "y=df['heart disease']"
      ],
      "metadata": {
        "id": "g57TTaH1_JlA"
      },
      "execution_count": 58,
      "outputs": []
    },
    {
      "cell_type": "code",
      "source": [
        "classifier_rf.oob_score_"
      ],
      "metadata": {
        "colab": {
          "base_uri": "https://localhost:8080/"
        },
        "id": "FSax-5HbLKYy",
        "outputId": "a82ab849-1712-4000-f50f-d7ca12c55fe0"
      },
      "execution_count": 68,
      "outputs": [
        {
          "output_type": "execute_result",
          "data": {
            "text/plain": [
              "0.656084656084656"
            ]
          },
          "metadata": {},
          "execution_count": 68
        }
      ]
    },
    {
      "cell_type": "code",
      "source": [
        "from sklearn.model_selection import train_test_split\n",
        "x_train,X_test,y_train,y_test=train_test_split(x,y,train_size=0.7,random_state=42)\n",
        "x_train.shape, X_test.shape"
      ],
      "metadata": {
        "colab": {
          "base_uri": "https://localhost:8080/"
        },
        "id": "lt63LjtuAyqc",
        "outputId": "9bd9f199-0236-4dcc-f87e-952d08ea0ef0"
      },
      "execution_count": 59,
      "outputs": [
        {
          "output_type": "execute_result",
          "data": {
            "text/plain": [
              "((189, 4), (81, 4))"
            ]
          },
          "metadata": {},
          "execution_count": 59
        }
      ]
    },
    {
      "cell_type": "code",
      "source": [
        "import time\n",
        "from sklearn.ensemble import RandomForestClassifier\n",
        "classifier_rf=RandomForestClassifier(\n",
        "    random_state=42,\n",
        "    n_jobs=-1,\n",
        "    max_depth=5,\n",
        "    n_estimators=100,\n",
        "    oob_score=True\n",
        ")\n",
        "start_time=time.time()\n",
        "classifier_rf.fit(x_train,y_train)\n",
        "end_time=time.time()\n",
        "print(f\"Training completed in {end_time - start_time:.4f}seconds\")\n"
      ],
      "metadata": {
        "colab": {
          "base_uri": "https://localhost:8080/"
        },
        "id": "R9SgiI8DLM3B",
        "outputId": "87f8b348-44dc-4ccc-fcce-b071d9016907"
      },
      "execution_count": 63,
      "outputs": [
        {
          "output_type": "stream",
          "name": "stdout",
          "text": [
            "Training completed in 0.3439seconds\n"
          ]
        }
      ]
    },
    {
      "cell_type": "code",
      "source": [
        "from sklearn.metrics import classification_report,confusion_matrix\n",
        "y_pred =classifier_rf.predict(X_test)\n",
        "print(confusion_matrix(y_test,y_pred))\n",
        "print(classification_report(y_test,y_pred))"
      ],
      "metadata": {
        "colab": {
          "base_uri": "https://localhost:8080/"
        },
        "id": "AUr_NdiNCGKJ",
        "outputId": "bcd14cab-f7f9-4617-f939-f03c35ea500f"
      },
      "execution_count": 64,
      "outputs": [
        {
          "output_type": "stream",
          "name": "stdout",
          "text": [
            "[[36 13]\n",
            " [15 17]]\n",
            "              precision    recall  f1-score   support\n",
            "\n",
            "           0       0.71      0.73      0.72        49\n",
            "           1       0.57      0.53      0.55        32\n",
            "\n",
            "    accuracy                           0.65        81\n",
            "   macro avg       0.64      0.63      0.63        81\n",
            "weighted avg       0.65      0.65      0.65        81\n",
            "\n"
          ]
        }
      ]
    },
    {
      "cell_type": "code",
      "source": [
        "import matplotlib.pyplot as plt\n",
        "\n",
        "importances = classifier_rf.feature_importances_\n",
        "plt.barh(range(len(importances)), importances)\n",
        "plt.xlabel('Feature Importance')\n",
        "plt.ylabel('Feature Index')\n",
        "plt.title('Random Forest Feature Importance')\n",
        "plt.show()"
      ],
      "metadata": {
        "colab": {
          "base_uri": "https://localhost:8080/",
          "height": 472
        },
        "id": "mKN6XZw1L6f4",
        "outputId": "2be84f05-1735-42f0-8771-60c4110a8515"
      },
      "execution_count": 65,
      "outputs": [
        {
          "output_type": "display_data",
          "data": {
            "text/plain": [
              "<Figure size 640x480 with 1 Axes>"
            ],
            "image/png": "[encoded data removed]"
          },
          "metadata": {}
        }
      ]
    },
    {
      "cell_type": "code",
      "source": [
        "import time\n",
        "from sklearn.ensemble import RandomForestClassifier\n",
        "\n",
        "classifier_rf = RandomForestClassifier(\n",
        "    random_state=42,\n",
        "    n_jobs=-1,\n",
        "    max_depth=5,\n",
        "    n_estimators=100,\n",
        "    oob_score=True\n",
        ")\n",
        "\n",
        "start_time = time.time()\n",
        "classifier_rf.fit(X_train, y_train)\n",
        "end_time = time.time()\n",
        "\n",
        "print(f\"Training completed in {end_time - start_time:.2f} seconds\")"
      ],
      "metadata": {
        "colab": {
          "base_uri": "https://localhost:8080/"
        },
        "id": "NXGS5gVrQErN",
        "outputId": "2e82b351-c80e-436c-a597-9f851b885fff"
      },
      "execution_count": 66,
      "outputs": [
        {
          "output_type": "stream",
          "name": "stdout",
          "text": [
            "Training completed in 0.34 seconds\n"
          ]
        }
      ]
    },
    {
      "cell_type": "code",
      "source": [
        "grid_search.fit(X_train, y_train)"
      ],
      "metadata": {
        "colab": {
          "base_uri": "https://localhost:8080/",
          "height": 141
        },
        "id": "cxsS2tklQI1J",
        "outputId": "62d2c938-ec53-4721-f408-b8012fb1297b"
      },
      "execution_count": 67,
      "outputs": [
        {
          "output_type": "error",
          "ename": "NameError",
          "evalue": "name 'grid_search' is not defined",
          "traceback": [
            "\u001b[0;31m---------------------------------------------------------------------------\u001b[0m",
            "\u001b[0;31mNameError\u001b[0m                                 Traceback (most recent call last)",
            "\u001b[0;32m<ipython-input-67-231b374c92ba>\u001b[0m in \u001b[0;36m<cell line: 0>\u001b[0;34m()\u001b[0m\n\u001b[0;32m----> 1\u001b[0;31m \u001b[0mgrid_search\u001b[0m\u001b[0;34m.\u001b[0m\u001b[0mfit\u001b[0m\u001b[0;34m(\u001b[0m\u001b[0mX_train\u001b[0m\u001b[0;34m,\u001b[0m \u001b[0my_train\u001b[0m\u001b[0;34m)\u001b[0m\u001b[0;34m\u001b[0m\u001b[0;34m\u001b[0m\u001b[0m\n\u001b[0m",
            "\u001b[0;31mNameError\u001b[0m: name 'grid_search' is not defined"
          ]
        }
      ]
    },
    {
      "cell_type": "code",
      "source": [],
      "metadata": {
        "id": "RGuZlV9eQPlz"
      },
      "execution_count": null,
      "outputs": []
    }
  ]
}